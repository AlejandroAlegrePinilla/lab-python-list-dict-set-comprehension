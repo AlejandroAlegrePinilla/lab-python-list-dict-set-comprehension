{
 "cells": [
  {
   "cell_type": "markdown",
   "id": "25d7736c-ba17-4aff-b6bb-66eba20fbf4e",
   "metadata": {},
   "source": [
    "# Lab | List, Dict and Set Comprehension"
   ]
  },
  {
   "cell_type": "markdown",
   "id": "7dd3cbde-675a-4b81-92c3-f728846dbe06",
   "metadata": {},
   "source": [
    "## Exercise: Managing Customer Orders Optimized with Comprehension"
   ]
  },
  {
   "cell_type": "markdown",
   "id": "5d500160-2fb7-4777-b5e4-09d45ebaf328",
   "metadata": {},
   "source": [
    "In the previous exercise, you developed a program to manage customer orders and inventory. Now, let's take it a step further and incorporate comprehension into your code.\n",
    "\n",
    "Follow the steps below to complete the exercise:\n",
    "\n",
    "1. Review your code from the previous exercise and identify areas where you can apply comprehension to simplify and streamline your code. \n",
    "\n",
    "    - *Hint: Apply it to initialize inventory, updating the inventory and printing the updated inventory.*\n",
    "    \n",
    "    - For example, in initializing the inventory, we could have:\n",
    "    \n",
    "        ```python\n",
    "        def initialize_inventory(products):\n",
    "            inventory = {product: int(input(f\"Enter the quantity of {product}s available: \")) for product in products}\n",
    "            return inventory\n",
    "\n",
    "        ```\n",
    "<br>\n",
    "    \n",
    "    \n",
    "2. Modify the function get_customer_orders so it prompts the user to enter the number of customer orders and gathers the product names using a loop and user input. Use comprehension.\n",
    "\n",
    "3. Add a new function to calculate the total price of the customer order. For each product in customer_orders, prompt the user to enter the price of that product. Use comprehension to calculate the total price. Note: assume that the user can only have 1 unit of each product.\n",
    "\n",
    "4. Modify the update_inventory function to remove the product from the inventory if its quantity becomes zero after fulfilling the customer orders. Use comprehension to filter out the products with a quantity of zero from the inventory.\n",
    "\n",
    "5. Print the total price of the customer order.\n",
    "\n",
    "Your code should produce output similar to the following:\n",
    "\n",
    "```python\n",
    "Enter the quantity of t-shirts available:  5\n",
    "Enter the quantity of mugs available:  4\n",
    "Enter the quantity of hats available:  3\n",
    "Enter the quantity of books available:  2\n",
    "Enter the quantity of keychains available:  1\n",
    "Enter the number of customer orders:  2\n",
    "Enter the name of a product that a customer wants to order:  hat\n",
    "Enter the name of a product that a customer wants to order:  keychain\n",
    "\n",
    "Order Statistics:\n",
    "Total Products Ordered: 2\n",
    "Percentage of Unique Products Ordered: 40.0\n",
    "\n",
    "Updated Inventory:\n",
    "t-shirt: 5\n",
    "mug: 4\n",
    "hat: 2\n",
    "book: 2\n",
    "Enter the price of keychain:  5\n",
    "Enter the price of hat:  10\n",
    "Total Price: 15.0\n",
    "\n",
    "```\n"
   ]
  },
  {
   "cell_type": "code",
   "execution_count": 1,
   "id": "7d0fab48",
   "metadata": {},
   "outputs": [],
   "source": [
    "#1.- Function initialize inventory\n",
    "\n",
    "def initialize_inventory(products):\n",
    "    inventory = {product: int(input(f\"Enter the quantity of {product}s available: \")) for product in products}\n",
    "    print(f\"Available products: {inventory}\")\n",
    "    return inventory"
   ]
  },
  {
   "cell_type": "code",
   "execution_count": 2,
   "id": "0606a2c7",
   "metadata": {},
   "outputs": [],
   "source": [
    "#2.- Function get customer order\n",
    "\n",
    "def get_customer_orders():\n",
    "    customer_orders = set()\n",
    "    number_of_orders = int(input(\"Enter the number of customer orders: \"))\n",
    "    customer_orders = {input(\"enter the name of the product that the customer wants to order: \") for _ in range(number_of_orders)}\n",
    "    return customer_orders"
   ]
  },
  {
   "cell_type": "code",
   "execution_count": 3,
   "id": "1e03b4b1",
   "metadata": {},
   "outputs": [],
   "source": [
    "#3.- Function price customer order\n",
    "\n",
    "def calculate_total_price(customer_orders):\n",
    "    total_price = sum(float(input(f\"The price of {product} is: \")) for product in customer_orders)\n",
    "    print(f\"Total order price: {total_price:.2f}\")\n",
    "    return total_price"
   ]
  },
  {
   "cell_type": "code",
   "execution_count": 4,
   "id": "a10e0ecf",
   "metadata": {},
   "outputs": [],
   "source": [
    "#Function update_inventory\n",
    "\n",
    "def update_inventory(customer_orders, inventory):\n",
    "    for product in customer_orders:                                                         \n",
    "        inventory[product] -= 1\n",
    "    return inventory"
   ]
  },
  {
   "cell_type": "code",
   "execution_count": 5,
   "id": "8906deee",
   "metadata": {},
   "outputs": [],
   "source": [
    " #Function calculate order stadistics\n",
    "\n",
    "def calculate_order_stadistics(customer_orders, products):\n",
    "    total_products_ordered = len(customer_orders)                                              \n",
    "    total_available_products = sum(map(int, inventory.values()))\n",
    "    percentage_products_ordered = (total_products_ordered / total_available_products) * 100\n",
    "    \n",
    "    return total_products_ordered, percentage_products_ordered"
   ]
  },
  {
   "cell_type": "code",
   "execution_count": 6,
   "id": "dcaf9a6e",
   "metadata": {},
   "outputs": [],
   "source": [
    "#Function print_order_stadistics\n",
    "\n",
    "def show_order_stadistics(order_stadistics):\n",
    "    print(\"\\nOrder Stadistics:\")\n",
    "    print(f\"Total products ordered: {order_stadistics[0]}\")\n",
    "    print(f\"Percentage of Unique Products Ordered: {order_stadistics[1]}%\")"
   ]
  },
  {
   "cell_type": "code",
   "execution_count": 7,
   "id": "ad2d2ace",
   "metadata": {},
   "outputs": [],
   "source": [
    "#4.- Function print_updated_inventory\n",
    "\n",
    "def print_updated_inventory(inventory):\n",
    "    for product, quantity in inventory.items():\n",
    "        if quantity > 0:\n",
    "            print(f\"The remaining inventory of {product} is {quantity}\")"
   ]
  },
  {
   "cell_type": "code",
   "execution_count": 8,
   "id": "436b7e53",
   "metadata": {},
   "outputs": [
    {
     "name": "stdout",
     "output_type": "stream",
     "text": [
      "Available products: {'t-shirt': 1, 'mug': 1, 'hat': 1, 'book': 1, 'keychain': 1}\n",
      "Total order price: 13.00\n",
      "The remaining inventory of t-shirt is 1\n",
      "The remaining inventory of book is 1\n",
      "\n",
      "Order Stadistics:\n",
      "Total products ordered: 3\n",
      "Percentage of Unique Products Ordered: 150.0%\n"
     ]
    }
   ],
   "source": [
    "#Call all functions\n",
    "\n",
    "products = [\"t-shirt\", \"mug\", \"hat\", \"book\", \"keychain\"]\n",
    "inventory = initialize_inventory(products)\n",
    "customer_orders = get_customer_orders()\n",
    "total_price = calculate_total_price(customer_orders)\n",
    "new_inventory = update_inventory(customer_orders, inventory)\n",
    "order_stadistics = calculate_order_stadistics(customer_orders, products)\n",
    "print_updated_inventory(inventory)\n",
    "show_order_stadistics(order_stadistics)"
   ]
  },
  {
   "cell_type": "code",
   "execution_count": null,
   "id": "b6f87751",
   "metadata": {},
   "outputs": [],
   "source": []
  }
 ],
 "metadata": {
  "kernelspec": {
   "display_name": "Python 3 (ipykernel)",
   "language": "python",
   "name": "python3"
  },
  "language_info": {
   "codemirror_mode": {
    "name": "ipython",
    "version": 3
   },
   "file_extension": ".py",
   "mimetype": "text/x-python",
   "name": "python",
   "nbconvert_exporter": "python",
   "pygments_lexer": "ipython3",
   "version": "3.11.7"
  }
 },
 "nbformat": 4,
 "nbformat_minor": 5
}
